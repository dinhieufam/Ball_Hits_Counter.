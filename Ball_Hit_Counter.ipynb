{
  "cells": [
    {
      "cell_type": "markdown",
      "id": "77c00413",
      "metadata": {
        "id": "77c00413",
        "papermill": {
          "duration": 0.014968,
          "end_time": "2022-07-23T16:53:47.454782",
          "exception": false,
          "start_time": "2022-07-23T16:53:47.439814",
          "status": "completed"
        },
        "tags": []
      },
      "source": [
        "# 1. Import Library"
      ]
    },
    {
      "cell_type": "code",
      "execution_count": 1,
      "id": "c3915a92",
      "metadata": {
        "execution": {
          "iopub.execute_input": "2022-07-23T16:53:47.485825Z",
          "iopub.status.busy": "2022-07-23T16:53:47.484982Z",
          "iopub.status.idle": "2022-07-23T16:53:50.515530Z",
          "shell.execute_reply": "2022-07-23T16:53:50.514150Z"
        },
        "id": "c3915a92",
        "papermill": {
          "duration": 3.049494,
          "end_time": "2022-07-23T16:53:50.518712",
          "exception": false,
          "start_time": "2022-07-23T16:53:47.469218",
          "status": "completed"
        },
        "tags": []
      },
      "outputs": [],
      "source": [
        "import os\n",
        "import sys\n",
        "import time\n",
        "import datetime\n",
        "from PIL import Image, ImageEnhance\n",
        "import matplotlib.pyplot as plt\n",
        "import numpy as np\n",
        "import math\n",
        "import torch\n",
        "import torch.nn as nn\n",
        "import torchvision\n",
        "from torchvision.utils import save_image\n",
        "import torchvision.transforms as transforms\n",
        "from tqdm.auto import tqdm\n",
        "import torch.nn.functional as F\n",
        "import urllib\n",
        "import glob\n",
        "import skimage.io as skio\n",
        "from torch.utils.data import Dataset\n",
        "import random\n",
        "import pandas as pd"
      ]
    },
    {
      "cell_type": "markdown",
      "id": "0b977427",
      "metadata": {
        "id": "0b977427",
        "papermill": {
          "duration": 0.007345,
          "end_time": "2022-07-23T16:53:50.534555",
          "exception": false,
          "start_time": "2022-07-23T16:53:50.527210",
          "status": "completed"
        },
        "tags": []
      },
      "source": [
        "# 2. Preprocess data"
      ]
    },
    {
      "cell_type": "code",
      "execution_count": 2,
      "id": "9f7c8d67",
      "metadata": {
        "execution": {
          "iopub.execute_input": "2022-07-23T16:53:50.551356Z",
          "iopub.status.busy": "2022-07-23T16:53:50.550841Z",
          "iopub.status.idle": "2022-07-23T16:53:50.560215Z",
          "shell.execute_reply": "2022-07-23T16:53:50.559004Z"
        },
        "id": "9f7c8d67",
        "papermill": {
          "duration": 0.020287,
          "end_time": "2022-07-23T16:53:50.562587",
          "exception": false,
          "start_time": "2022-07-23T16:53:50.542300",
          "status": "completed"
        },
        "tags": []
      },
      "outputs": [],
      "source": [
        "# Set several hyperparameters and settings\n",
        "\n",
        "batch_size = 128 # size of dataset\n",
        "\n",
        "n_epoch = 12 # times of training\n",
        "\n",
        "learning_rate = 0.001 # learning_rate >> -> learn faster -> accuracy <<\n",
        "\n",
        "transform = transforms.Compose([\n",
        "    transforms.Resize((224, 224)),\n",
        "    transforms.ToTensor(),\n",
        "    transforms.Normalize([0.485, 0.456, 0.406], [0.229, 0.224, 0.225]) # to tensor before normalize\n",
        "])\n",
        "validation_transform = transforms.Compose([\n",
        "#     transforms.Grayscale(),\n",
        "    transforms.Resize((224, 224)),\n",
        "    transforms.ToTensor(), # to tensor @ Normalize must be at the end\n",
        "    transforms.Normalize([0.485, 0.456, 0.406], [0.229, 0.224, 0.225]) # to tensor before normalize\n",
        "])\n",
        "\n",
        "shuffle = False\n",
        "target_transform = None"
      ]
    },
    {
      "cell_type": "code",
      "execution_count": 3,
      "id": "1fb18cfb",
      "metadata": {
        "colab": {
          "base_uri": "https://localhost:8080/",
          "height": 0
        },
        "execution": {
          "iopub.execute_input": "2022-07-23T16:53:50.578974Z",
          "iopub.status.busy": "2022-07-23T16:53:50.578589Z",
          "iopub.status.idle": "2022-07-23T16:53:50.655045Z",
          "shell.execute_reply": "2022-07-23T16:53:50.653612Z"
        },
        "id": "1fb18cfb",
        "outputId": "83f32c43-e278-47ad-99b4-de922554198f",
        "papermill": {
          "duration": 0.088224,
          "end_time": "2022-07-23T16:53:50.658140",
          "exception": false,
          "start_time": "2022-07-23T16:53:50.569916",
          "status": "completed"
        },
        "tags": []
      },
      "outputs": [
        {
          "name": "stdout",
          "output_type": "stream",
          "text": [
            "cpu\n"
          ]
        }
      ],
      "source": [
        "seed = 123\n",
        "torch.manual_seed(seed)\n",
        "device = torch.device(\"cuda\" if torch.cuda.is_available() else \"cpu\")\n",
        "print(device)"
      ]
    },
    {
      "cell_type": "code",
      "execution_count": null,
      "id": "549ae7a5",
      "metadata": {
        "execution": {
          "iopub.execute_input": "2022-07-23T16:53:50.676019Z",
          "iopub.status.busy": "2022-07-23T16:53:50.675635Z",
          "iopub.status.idle": "2022-07-23T16:53:54.418120Z",
          "shell.execute_reply": "2022-07-23T16:53:54.416859Z"
        },
        "id": "549ae7a5",
        "papermill": {
          "duration": 3.754633,
          "end_time": "2022-07-23T16:53:54.420931",
          "exception": false,
          "start_time": "2022-07-23T16:53:50.666298",
          "status": "completed"
        },
        "tags": []
      },
      "outputs": [],
      "source": [
        "def load_image(file):\n",
        "    return Image.open(file)\n",
        "def image_path(root, basename, extension):\n",
        "    return os.path.join(root, f'{basename}{extension}')\n",
        "\n",
        "class CustomImageDataset(Dataset):\n",
        "    def __init__(self, img_dir, label_dir, transform=None):\n",
        "        video_files = os.listdir(img_dir)\n",
        "        self.labels = list()\n",
        "        self.imgs = list()\n",
        "        for file_name in video_files:\n",
        "            cur_csv = pd.read_csv(os.path.join(label_dir, file_name+'.csv'))\n",
        "            cur_len = len(cur_csv.index)\n",
        "            for itr in range(cur_len):\n",
        "                img_file_dir = os.path.join(os.path.join(img_dir, file_name), cur_csv.iloc[itr, 0] + '.PNG')\n",
        "                self.imgs.append(img_file_dir) # image directory\n",
        "                self.labels.append([cur_csv.iloc[itr, 0], cur_csv.iloc[itr, 1]]) # label\n",
        "        self.img_dir = img_dir\n",
        "        self.label_dir = label_dir\n",
        "        self.transform = transform\n",
        "\n",
        "    def __getitem__(self, index):\n",
        "        with open(self.imgs[index], 'rb') as f:\n",
        "            image = load_image(f).convert('RGB')\n",
        "        label = self.labels[index][1]\n",
        "        filename = self.labels[index][0]\n",
        "\n",
        "#         image, label = self.spm_transform(image, label)\n",
        "\n",
        "        if self.transform is not None:\n",
        "            image = self.transform(image)\n",
        "\n",
        "        return image, label\n",
        "\n",
        "    def __len__(self):\n",
        "        return len(self.labels)\n",
        "\n",
        "img_dir = r'../input/hsgs-hackathon2022/train_data/Train'\n",
        "label_dir = r'../input/hsgs-hackathon2022/train_data/Train_labels'\n",
        "dataset = CustomImageDataset(img_dir=img_dir, label_dir=label_dir, transform=transform)\n",
        "n_train = math.floor(0.9*len(dataset)) # (default) 90% of the data for training\n",
        "n_val = len(dataset) - math.floor(0.9*len(dataset)) # (default) 10% of the data for validation\n",
        "\n",
        "train_dataset, validation_dataset = torch.utils.data.random_split(dataset, [n_train, n_val])\n",
        "\n",
        "train_loader = torch.utils.data.DataLoader(train_dataset, batch_size = batch_size, shuffle=True, drop_last = True)\n",
        "validation_loader = torch.utils.data.DataLoader(validation_dataset, batch_size = batch_size, shuffle=False, drop_last = True)\n",
        "\n",
        "classes = ('Hit', 'no_label')"
      ]
    },
    {
      "cell_type": "code",
      "execution_count": null,
      "id": "055c3f6c",
      "metadata": {
        "execution": {
          "iopub.execute_input": "2022-07-23T16:53:54.438240Z",
          "iopub.status.busy": "2022-07-23T16:53:54.437919Z",
          "iopub.status.idle": "2022-07-23T16:54:01.185702Z",
          "shell.execute_reply": "2022-07-23T16:54:01.184185Z"
        },
        "id": "055c3f6c",
        "outputId": "9ee08b02-bf59-452a-990a-df6068affb2e",
        "papermill": {
          "duration": 6.76003,
          "end_time": "2022-07-23T16:54:01.188819",
          "exception": false,
          "start_time": "2022-07-23T16:53:54.428789",
          "status": "completed"
        },
        "tags": []
      },
      "outputs": [
        {
          "name": "stdout",
          "output_type": "stream",
          "text": [
            "torch.Size([128, 3, 224, 224]) torch.Size([128])\n"
          ]
        }
      ],
      "source": [
        "[one_batch_data, one_batch_label] = next(iter(train_loader))\n",
        "print(one_batch_data.size(), one_batch_label.size())   #check the size of the batches and labels"
      ]
    },
    {
      "cell_type": "markdown",
      "id": "2b518010",
      "metadata": {
        "id": "2b518010",
        "papermill": {
          "duration": 0.008328,
          "end_time": "2022-07-23T16:54:01.205836",
          "exception": false,
          "start_time": "2022-07-23T16:54:01.197508",
          "status": "completed"
        },
        "tags": []
      },
      "source": [
        "# 3. Build model"
      ]
    },
    {
      "cell_type": "code",
      "execution_count": null,
      "id": "2d59ec93",
      "metadata": {
        "execution": {
          "iopub.execute_input": "2022-07-23T16:54:01.225208Z",
          "iopub.status.busy": "2022-07-23T16:54:01.224729Z",
          "iopub.status.idle": "2022-07-23T16:54:15.224020Z",
          "shell.execute_reply": "2022-07-23T16:54:15.222672Z"
        },
        "id": "2d59ec93",
        "papermill": {
          "duration": 14.021113,
          "end_time": "2022-07-23T16:54:15.235590",
          "exception": false,
          "start_time": "2022-07-23T16:54:01.214477",
          "status": "completed"
        },
        "tags": []
      },
      "outputs": [],
      "source": [
        "class cLinear(nn.Module):\n",
        "    # in_channels = 512\n",
        "    def __init__(self, in_channels, out_channels, dropout=0):\n",
        "        super().__init__()\n",
        "        layers = [\n",
        "            nn.Linear(in_channels, 64),\n",
        "            nn.Dropout(p=0.3),\n",
        "            nn.Linear(64, out_channels),\n",
        "        ]\n",
        "        self.fward = nn.Sequential(*layers)\n",
        "\n",
        "    def forward(self, x):\n",
        "        return self.fward(x)\n",
        "\n",
        "model = torchvision.models.resnet152(pretrained=True)\n",
        "for param in model.parameters():\n",
        "    param.requires_grad = False\n",
        "fc_in_ftrs = model.fc.in_features\n",
        "print(fc_in_ftrs)\n",
        "model.fc = cLinear(fc_in_ftrs, 2)\n",
        "print(model)"
      ]
    },
    {
      "cell_type": "code",
      "execution_count": null,
      "id": "43f608a2",
      "metadata": {
        "execution": {
          "iopub.execute_input": "2022-07-23T16:54:15.255742Z",
          "iopub.status.busy": "2022-07-23T16:54:15.255091Z",
          "iopub.status.idle": "2022-07-23T16:54:15.267123Z",
          "shell.execute_reply": "2022-07-23T16:54:15.265930Z"
        },
        "id": "43f608a2",
        "papermill": {
          "duration": 0.024071,
          "end_time": "2022-07-23T16:54:15.269559",
          "exception": false,
          "start_time": "2022-07-23T16:54:15.245488",
          "status": "completed"
        },
        "tags": []
      },
      "outputs": [],
      "source": [
        "# convert img tensor to a NumPy array\n",
        "def vismod_img(img):\n",
        "    npimg = img.numpy()\n",
        "    npimg = np.transpose(npimg, (1, 2, 0))\n",
        "    return npimg\n",
        "\n",
        "# display the first 8 image in the input data along with their labels\n",
        "def show_data(data, label, classes):\n",
        "    num_row = 2\n",
        "    num_col = 4\n",
        "    fig, axes = plt.subplots(num_row, num_col)\n",
        "    for i in range(8):\n",
        "        ax = axes[i//num_col, i%num_col]\n",
        "        ax.imshow(vismod_img(data[i].cpu()))\n",
        "        ax.set_title(f'label : {classes[label[i].cpu().item()]}')\n",
        "    plt.tight_layout()\n",
        "    plt.show()\n",
        "\n",
        "# show the output predictions along with labels\n",
        "def show_inference_result(data, label, output, classes):\n",
        "    num_row = 2\n",
        "    num_col = 4\n",
        "    fig, axes = plt.subplots(num_row, num_col)\n",
        "    for i in range(8):\n",
        "        ax = axes[i//num_col, i%num_col]\n",
        "        ax.imshow(vismod_img(data[i].cpu()))\n",
        "#         print('checkclass', label[i].cpu().item())\n",
        "        ax.set_title(f'GT : {classes[label[i].cpu().item()]} \\n output : {classes[output[i].cpu().item()]}')\n",
        "    plt.tight_layout()\n",
        "    plt.show()"
      ]
    },
    {
      "cell_type": "code",
      "execution_count": null,
      "id": "4e44aff1",
      "metadata": {
        "execution": {
          "iopub.execute_input": "2022-07-23T16:54:15.287880Z",
          "iopub.status.busy": "2022-07-23T16:54:15.286815Z",
          "iopub.status.idle": "2022-07-23T16:54:16.254984Z",
          "shell.execute_reply": "2022-07-23T16:54:16.253689Z"
        },
        "id": "4e44aff1",
        "outputId": "8c3724db-5829-4742-e41d-8e72bffe45b8",
        "papermill": {
          "duration": 0.980598,
          "end_time": "2022-07-23T16:54:16.258295",
          "exception": false,
          "start_time": "2022-07-23T16:54:15.277697",
          "status": "completed"
        },
        "tags": []
      },
      "outputs": [
        {
          "name": "stdout",
          "output_type": "stream",
          "text": [
            "(Training Data) ground truth example\n"
          ]
        },
        {
          "data": {
            "image/png": "[encoded data removed]",
            "text/plain": [
              "<Figure size 432x288 with 8 Axes>"
            ]
          },
          "metadata": {
            "needs_background": "light"
          },
          "output_type": "display_data"
        }
      ],
      "source": [
        "# show ground truth classification (one batch)\n",
        "print('(Training Data) ground truth example')\n",
        "show_data(one_batch_data, one_batch_label, classes) # 10"
      ]
    },
    {
      "cell_type": "code",
      "execution_count": null,
      "id": "02a8596f",
      "metadata": {
        "execution": {
          "iopub.execute_input": "2022-07-23T16:54:16.280594Z",
          "iopub.status.busy": "2022-07-23T16:54:16.280287Z",
          "iopub.status.idle": "2022-07-23T16:54:27.384309Z",
          "shell.execute_reply": "2022-07-23T16:54:27.383119Z"
        },
        "id": "02a8596f",
        "outputId": "557cb16e-5e34-4353-e283-0c195cb75a97",
        "papermill": {
          "duration": 11.117319,
          "end_time": "2022-07-23T16:54:27.387042",
          "exception": false,
          "start_time": "2022-07-23T16:54:16.269723",
          "status": "completed"
        },
        "tags": []
      },
      "outputs": [
        {
          "name": "stdout",
          "output_type": "stream",
          "text": [
            "current classification\n"
          ]
        },
        {
          "data": {
            "image/png": "[encoded data removed]",
            "text/plain": [
              "<Figure size 432x288 with 8 Axes>"
            ]
          },
          "metadata": {
            "needs_background": "light"
          },
          "output_type": "display_data"
        }
      ],
      "source": [
        "def weights_init(m):\n",
        "    if isinstance(m, nn.Linear):\n",
        "        bound = 1 / math.sqrt(m.weight.size(1))\n",
        "        nn.init.uniform_(m.weight, -bound, bound)\n",
        "        nn.init.uniform_(m.bias, -bound, bound)\n",
        "\n",
        "def thresholding(prediction):\n",
        "    _, pred_label = torch.max(prediction, 1)\n",
        "    return pred_label\n",
        "\n",
        "my_classifier = model  # assign classifier\n",
        "my_classifier = my_classifier.to(device)\n",
        "# my_classifier.apply(weights_init)  # applying weights_init function to linear layers\n",
        "\n",
        "# show the performance of untrained classifier\n",
        "print('current classification')\n",
        "prediction = my_classifier(one_batch_data.to(device))  # passing forward function of classifier, return prediction\n",
        "show_inference_result(one_batch_data, one_batch_label, thresholding(prediction), classes)"
      ]
    },
    {
      "cell_type": "code",
      "execution_count": null,
      "id": "c84fdcda",
      "metadata": {
        "execution": {
          "iopub.execute_input": "2022-07-23T16:54:27.412382Z",
          "iopub.status.busy": "2022-07-23T16:54:27.411723Z",
          "iopub.status.idle": "2022-07-23T16:54:27.422728Z",
          "shell.execute_reply": "2022-07-23T16:54:27.421243Z"
        },
        "id": "c84fdcda",
        "outputId": "f6b41029-f093-4ac5-ddf4-41f493d004e3",
        "papermill": {
          "duration": 0.026192,
          "end_time": "2022-07-23T16:54:27.425375",
          "exception": false,
          "start_time": "2022-07-23T16:54:27.399183",
          "status": "completed"
        },
        "tags": []
      },
      "outputs": [
        {
          "name": "stdout",
          "output_type": "stream",
          "text": [
            "58275074\n"
          ]
        }
      ],
      "source": [
        "def get_n_params(model):\n",
        "    pp=0\n",
        "    for p in list(model.parameters()):\n",
        "        nn=1\n",
        "        for s in list(p.size()):\n",
        "            nn = nn*s\n",
        "        pp += nn\n",
        "    return pp\n",
        "print(get_n_params(my_classifier))"
      ]
    },
    {
      "cell_type": "code",
      "execution_count": null,
      "id": "6a329c79",
      "metadata": {
        "execution": {
          "iopub.execute_input": "2022-07-23T16:54:27.448415Z",
          "iopub.status.busy": "2022-07-23T16:54:27.448083Z",
          "iopub.status.idle": "2022-07-23T16:54:27.455980Z",
          "shell.execute_reply": "2022-07-23T16:54:27.454717Z"
        },
        "id": "6a329c79",
        "papermill": {
          "duration": 0.02246,
          "end_time": "2022-07-23T16:54:27.458640",
          "exception": false,
          "start_time": "2022-07-23T16:54:27.436180",
          "status": "completed"
        },
        "tags": []
      },
      "outputs": [],
      "source": [
        "optimizer = torch.optim.Adam(my_classifier.parameters(), lr=learning_rate, weight_decay=0.001)"
      ]
    },
    {
      "cell_type": "markdown",
      "id": "4486a6fa",
      "metadata": {
        "id": "4486a6fa",
        "papermill": {
          "duration": 0.010856,
          "end_time": "2022-07-23T16:54:27.479973",
          "exception": false,
          "start_time": "2022-07-23T16:54:27.469117",
          "status": "completed"
        },
        "tags": []
      },
      "source": [
        "# 4. Train\n"
      ]
    },
    {
      "cell_type": "code",
      "execution_count": null,
      "id": "317a1c97",
      "metadata": {
        "execution": {
          "iopub.execute_input": "2022-07-23T16:54:27.503213Z",
          "iopub.status.busy": "2022-07-23T16:54:27.502836Z",
          "iopub.status.idle": "2022-07-23T16:54:27.647268Z",
          "shell.execute_reply": "2022-07-23T16:54:27.645322Z"
        },
        "id": "317a1c97",
        "papermill": {
          "duration": 0.158258,
          "end_time": "2022-07-23T16:54:27.648970",
          "exception": true,
          "start_time": "2022-07-23T16:54:27.490712",
          "status": "failed"
        },
        "tags": []
      },
      "outputs": [],
      "source": [
        "my_classifier.load_state_dict(torch.load(\"./checkpoint.pth\", map_location=torch.device('cpu')))"
      ]
    },
    {
      "cell_type": "code",
      "execution_count": null,
      "id": "2a9ac466",
      "metadata": {
        "execution": {
          "iopub.execute_input": "2022-07-23T13:43:29.970606Z",
          "iopub.status.busy": "2022-07-23T13:43:29.970010Z"
        },
        "id": "2a9ac466",
        "papermill": {
          "duration": null,
          "end_time": null,
          "exception": null,
          "start_time": null,
          "status": "pending"
        },
        "tags": []
      },
      "outputs": [],
      "source": [
        "# train cnn classifier\n",
        "train_loss_iter = np.zeros(n_epoch, dtype=float)  # Temporary numpy array to save loss for each epoch\n",
        "validation_loss_iter = np.zeros(n_epoch, dtype=float)\n",
        "train_accuracy_iter = np.zeros(n_epoch, dtype=float)  # Temporary numpy array to save accuracy for each epoch\n",
        "validation_accuracy_iter = np.zeros(n_epoch, dtype=float)\n",
        "\n",
        "loss_function = torch.nn.CrossEntropyLoss()\n",
        "# Assign cross-entropy loss\n",
        "best_model_state = None\n",
        "best_acc = 0.0\n",
        "\n",
        "for epoch in range(n_epoch):  # We will iteratively find optimum\n",
        "    # Training\n",
        "    my_classifier.train()\n",
        "    total_loss, total_cnt, correct_cnt = 0.0, 0.0, 0.0\n",
        "\n",
        "    for batch_idx, (image, label) in enumerate(train_loader): # current len(train_loader) = 390\n",
        "        image, label = image.to(device), label.to(device)\n",
        "        pred = my_classifier(image)  # Find output of classifier\n",
        "\n",
        "        optimizer.zero_grad()  # Pytorch does not overwrite gradients, it 'accumulates' them so that we need to set gradient as 0 to update parameter correctly\n",
        "        loss = loss_function(pred, label)  # Calculate cross-entropy loss between prediction and label\n",
        "        loss.backward()  # Pytorch automatically back-propagate and calculate gradients\n",
        "        optimizer.step()  # From calculated gradients, change parameters of classifier with SGD algorithm\n",
        "\n",
        "        total_loss += loss.item()\n",
        "        total_cnt += len(label)\n",
        "        correct_cnt += (pred.argmax(1) == label).type(torch.float).sum().item()\n",
        "\n",
        "\n",
        "    accuracy = correct_cnt * 1.0 / total_cnt\n",
        "    train_loss_iter[epoch] = total_loss / total_cnt\n",
        "    train_accuracy_iter[epoch] = accuracy\n",
        "\n",
        "\n",
        "    print(f\"[{str(epoch).zfill(len(str(n_epoch)))}/{n_epoch}] Train Loss  : {train_loss_iter[epoch]:.6f}, Acc = {100*train_accuracy_iter[epoch]:.2f}%\")\n",
        "\n",
        "    # validation\n",
        "    my_classifier.eval()\n",
        "    total_loss, total_cnt, correct_cnt = 0.0, 0.0, 0.0\n",
        "    for batch_idx, (image, label) in enumerate(validation_loader):\n",
        "        with torch.no_grad():\n",
        "            image, label = image.to(device), label.to(device)\n",
        "\n",
        "            pred = my_classifier(image)\n",
        "            loss = loss_function(pred, label)\n",
        "\n",
        "            total_loss += loss.item()\n",
        "            total_cnt += len(label)\n",
        "            correct_cnt += (pred.argmax(1) == label).type(torch.float).sum().item()\n",
        "\n",
        "    accuracy = correct_cnt * 1.0 / total_cnt\n",
        "    validation_loss_iter[epoch]  = total_loss / total_cnt\n",
        "    validation_accuracy_iter[epoch] = accuracy\n",
        "\n",
        "    if best_acc < accuracy:\n",
        "        best_acc = accuracy\n",
        "        best_model_state = my_classifier.state_dict()\n",
        "\n",
        "    print(f\"[{str(epoch).zfill(len(str(n_epoch)))}/{n_epoch}] Validation Loss : {validation_loss_iter[epoch]:.6f}, Acc = {100*validation_accuracy_iter[epoch]:.2f}%\")"
      ]
    },
    {
      "cell_type": "code",
      "execution_count": null,
      "id": "604206b8",
      "metadata": {
        "execution": {
          "iopub.execute_input": "2022-07-23T16:38:45.983797Z",
          "iopub.status.busy": "2022-07-23T16:38:45.983345Z",
          "iopub.status.idle": "2022-07-23T16:38:46.221829Z",
          "shell.execute_reply": "2022-07-23T16:38:46.220434Z",
          "shell.execute_reply.started": "2022-07-23T16:38:45.983753Z"
        },
        "id": "604206b8",
        "papermill": {
          "duration": null,
          "end_time": null,
          "exception": null,
          "start_time": null,
          "status": "pending"
        },
        "tags": []
      },
      "outputs": [],
      "source": [
        "# show loss during training\n",
        "l1, = plt.plot(range(1,n_epoch+1), train_loss_iter)\n",
        "l2, = plt.plot(range(1,n_epoch+1), validation_loss_iter)\n",
        "plt.legend(handles=(l1, l2), labels=('Train loss', 'Valid loss'))"
      ]
    },
    {
      "cell_type": "code",
      "execution_count": null,
      "id": "6ef40c50",
      "metadata": {
        "execution": {
          "iopub.execute_input": "2022-07-23T16:38:54.237237Z",
          "iopub.status.busy": "2022-07-23T16:38:54.236585Z",
          "iopub.status.idle": "2022-07-23T16:38:54.732818Z",
          "shell.execute_reply": "2022-07-23T16:38:54.731550Z",
          "shell.execute_reply.started": "2022-07-23T16:38:54.237186Z"
        },
        "id": "6ef40c50",
        "papermill": {
          "duration": null,
          "end_time": null,
          "exception": null,
          "start_time": null,
          "status": "pending"
        },
        "tags": []
      },
      "outputs": [],
      "source": [
        "# show accuracy during training\n",
        "l1, = plt.plot(range(1,n_epoch+1), 100*train_accuracy_iter)\n",
        "l2, = plt.plot(range(1,n_epoch+1), 100*validation_accuracy_iter)\n",
        "plt.legend(handles=(l1, l2), labels=('Train Acc', 'Valid Acc'))"
      ]
    },
    {
      "cell_type": "code",
      "execution_count": null,
      "id": "0759f1fd",
      "metadata": {
        "execution": {
          "iopub.execute_input": "2022-07-23T16:38:58.035597Z",
          "iopub.status.busy": "2022-07-23T16:38:58.035202Z",
          "iopub.status.idle": "2022-07-23T16:39:06.014765Z",
          "shell.execute_reply": "2022-07-23T16:39:06.013448Z",
          "shell.execute_reply.started": "2022-07-23T16:38:58.035565Z"
        },
        "id": "0759f1fd",
        "papermill": {
          "duration": null,
          "end_time": null,
          "exception": null,
          "start_time": null,
          "status": "pending"
        },
        "tags": []
      },
      "outputs": [],
      "source": [
        "# For validation data\n",
        "print('After training')\n",
        "[one_batch_data, one_batch_label] = next(iter(validation_loader))\n",
        "prediction = my_classifier(one_batch_data.to(device))\n",
        "show_inference_result(one_batch_data, one_batch_label, thresholding(prediction), classes)"
      ]
    },
    {
      "cell_type": "code",
      "execution_count": null,
      "id": "5704305e",
      "metadata": {
        "execution": {
          "iopub.execute_input": "2022-07-23T16:39:06.834085Z",
          "iopub.status.busy": "2022-07-23T16:39:06.833347Z",
          "iopub.status.idle": "2022-07-23T16:39:07.608352Z",
          "shell.execute_reply": "2022-07-23T16:39:07.606876Z",
          "shell.execute_reply.started": "2022-07-23T16:39:06.834035Z"
        },
        "id": "5704305e",
        "papermill": {
          "duration": null,
          "end_time": null,
          "exception": null,
          "start_time": null,
          "status": "pending"
        },
        "tags": []
      },
      "outputs": [],
      "source": [
        "model_save_name = 'checkpoint2.pth'\n",
        "path = F\"{model_save_name}\"\n",
        "\n",
        "#torch.save(checkpoint, path)\n",
        "torch.save(best_model_state, path)"
      ]
    },
    {
      "cell_type": "markdown",
      "id": "c35a58dc",
      "metadata": {
        "id": "c35a58dc",
        "papermill": {
          "duration": null,
          "end_time": null,
          "exception": null,
          "start_time": null,
          "status": "pending"
        },
        "tags": []
      },
      "source": [
        "# 5. Test"
      ]
    },
    {
      "cell_type": "code",
      "execution_count": null,
      "id": "5ed8f9c6",
      "metadata": {
        "execution": {
          "iopub.execute_input": "2022-07-23T16:39:30.531925Z",
          "iopub.status.busy": "2022-07-23T16:39:30.531386Z",
          "iopub.status.idle": "2022-07-23T16:39:30.543970Z",
          "shell.execute_reply": "2022-07-23T16:39:30.542467Z",
          "shell.execute_reply.started": "2022-07-23T16:39:30.531877Z"
        },
        "id": "5ed8f9c6",
        "papermill": {
          "duration": null,
          "end_time": null,
          "exception": null,
          "start_time": null,
          "status": "pending"
        },
        "tags": []
      },
      "outputs": [],
      "source": [
        "class GetData(Dataset):\n",
        "    def __init__(self, img_dir, label_dir, transform=None):\n",
        "        video_files = os.listdir(img_dir)\n",
        "        self.labels = list()\n",
        "        self.imgs = list()\n",
        "        for folder_name in video_files:\n",
        "            file_name = os.listdir(img_dir + '/' + folder_name)\n",
        "            for img_name in file_name:\n",
        "                img_file_dir = img_dir + '/' + folder_name +'/' + img_name\n",
        "                self.imgs.append(img_file_dir) # image directory\n",
        "                self.labels.append([folder_name+'_'+img_name[:12], 1]) # label\n",
        "\n",
        "        self.img_dir = img_dir\n",
        "        self.label_dir = label_dir\n",
        "        self.transform = transform\n",
        "\n",
        "    def __getitem__(self, index):\n",
        "        with open(self.imgs[index], 'rb') as f:\n",
        "            image = load_image(f).convert('RGB')\n",
        "        label = self.labels[index][1]\n",
        "        filename = self.labels[index][0]\n",
        "\n",
        "#         image, label = self.spm_transform(image, label)\n",
        "\n",
        "        if self.transform is not None:\n",
        "            image = self.transform(image)\n",
        "\n",
        "        return image, filename\n",
        "\n",
        "    def __len__(self):\n",
        "        return len(self.labels)"
      ]
    },
    {
      "cell_type": "code",
      "execution_count": null,
      "id": "2187d6d7",
      "metadata": {
        "execution": {
          "iopub.execute_input": "2022-07-23T16:39:35.772763Z",
          "iopub.status.busy": "2022-07-23T16:39:35.772275Z",
          "iopub.status.idle": "2022-07-23T16:39:37.438216Z",
          "shell.execute_reply": "2022-07-23T16:39:37.436743Z",
          "shell.execute_reply.started": "2022-07-23T16:39:35.772724Z"
        },
        "id": "2187d6d7",
        "papermill": {
          "duration": null,
          "end_time": null,
          "exception": null,
          "start_time": null,
          "status": "pending"
        },
        "tags": []
      },
      "outputs": [],
      "source": [
        "test_dir = r'../input/hsgs-hackathon2022/Test_data/Test'\n",
        "testset = GetData(test_dir, None, transform)\n",
        "#test_dataset = torch.utils.data.random_split(testset, len(testset))\n",
        "test_loader = torch.utils.data.DataLoader(testset, batch_size = 8, shuffle=False)"
      ]
    },
    {
      "cell_type": "code",
      "execution_count": null,
      "id": "88416843",
      "metadata": {
        "execution": {
          "iopub.execute_input": "2022-07-23T16:42:30.812210Z",
          "iopub.status.busy": "2022-07-23T16:42:30.811033Z",
          "iopub.status.idle": "2022-07-23T16:49:52.968408Z",
          "shell.execute_reply": "2022-07-23T16:49:52.967009Z",
          "shell.execute_reply.started": "2022-07-23T16:42:30.812162Z"
        },
        "id": "88416843",
        "papermill": {
          "duration": null,
          "end_time": null,
          "exception": null,
          "start_time": null,
          "status": "pending"
        },
        "tags": []
      },
      "outputs": [],
      "source": [
        "s_ls = []\n",
        "\n",
        "with torch.no_grad():\n",
        "    my_classifier.eval()\n",
        "    for image, fname in test_loader:\n",
        "        image = image.to(device)\n",
        "\n",
        "        logits = my_classifier(image)\n",
        "        ps = torch.exp(logits)\n",
        "        _, top_class = ps.topk(1, dim=1)\n",
        "        i=0\n",
        "        for pred in top_class:\n",
        "            s_ls.append([fname[i], pred.item()])\n",
        "            print(fname[i], pred.item())\n",
        "            i+=1"
      ]
    },
    {
      "cell_type": "code",
      "execution_count": null,
      "id": "feb38099",
      "metadata": {
        "execution": {
          "iopub.execute_input": "2022-07-23T16:51:34.033408Z",
          "iopub.status.busy": "2022-07-23T16:51:34.032272Z",
          "iopub.status.idle": "2022-07-23T16:51:34.054568Z",
          "shell.execute_reply": "2022-07-23T16:51:34.052999Z",
          "shell.execute_reply.started": "2022-07-23T16:51:34.033353Z"
        },
        "id": "feb38099",
        "papermill": {
          "duration": null,
          "end_time": null,
          "exception": null,
          "start_time": null,
          "status": "pending"
        },
        "tags": []
      },
      "outputs": [],
      "source": [
        "# Detect\n",
        "s_ls.sort(reverse=False)\n",
        "i=0\n",
        "while i<len(s_ls):\n",
        "  if s_ls[i][1]==1:\n",
        "    if(i+1<len(s_ls) and s_ls[i][0][:12]==s_ls[i+1][0][:12]):\n",
        "      s_ls[i+1][1]=1\n",
        "    if(i>0 and s_ls[i][0][:12]==s_ls[i-1][0][:12]):\n",
        "      s_ls[i-1][1]=1\n",
        "    i+=1\n",
        "  i+=1\n",
        "\n",
        "# #  Counter\n",
        "# i = 1\n",
        "# cnt = 0\n",
        "# if s_ls[0][1] == 1:\n",
        "#   cnt += 1\n",
        "# while i < len(s_ls):\n",
        "#   if s_ls[i][1] == 1 and s_ls[i-1][1] == 0:\n",
        "#     cnt += 1\n",
        "\n",
        "# cnt.to_csv(\"submission.csv\", index=False)"
      ]
    },
    {
      "cell_type": "code",
      "execution_count": null,
      "id": "83fd34ff",
      "metadata": {
        "execution": {
          "iopub.execute_input": "2022-07-23T16:51:36.236582Z",
          "iopub.status.busy": "2022-07-23T16:51:36.235678Z",
          "iopub.status.idle": "2022-07-23T16:51:36.258169Z",
          "shell.execute_reply": "2022-07-23T16:51:36.254792Z",
          "shell.execute_reply.started": "2022-07-23T16:51:36.236541Z"
        },
        "id": "83fd34ff",
        "papermill": {
          "duration": null,
          "end_time": null,
          "exception": null,
          "start_time": null,
          "status": "pending"
        },
        "tags": []
      },
      "outputs": [],
      "source": [
        "sub = pd.DataFrame.from_records(s_ls, columns=['Frame', 'Label'])\n",
        "sub.head()"
      ]
    },
    {
      "cell_type": "code",
      "execution_count": null,
      "id": "0db19e54",
      "metadata": {
        "execution": {
          "iopub.execute_input": "2022-07-23T16:51:38.965796Z",
          "iopub.status.busy": "2022-07-23T16:51:38.965384Z",
          "iopub.status.idle": "2022-07-23T16:51:38.996962Z",
          "shell.execute_reply": "2022-07-23T16:51:38.995808Z",
          "shell.execute_reply.started": "2022-07-23T16:51:38.965764Z"
        },
        "id": "0db19e54",
        "papermill": {
          "duration": null,
          "end_time": null,
          "exception": null,
          "start_time": null,
          "status": "pending"
        },
        "tags": []
      },
      "outputs": [],
      "source": [
        "sub.to_csv(\"submission.csv\", index=False)"
      ]
    }
  ],
  "metadata": {
    "accelerator": "GPU",
    "colab": {
      "gpuType": "T4",
      "provenance": []
    },
    "kernelspec": {
      "display_name": "Python 3",
      "name": "python3"
    },
    "language_info": {
      "codemirror_mode": {
        "name": "ipython",
        "version": 3
      },
      "file_extension": ".py",
      "mimetype": "text/x-python",
      "name": "python",
      "nbconvert_exporter": "python",
      "pygments_lexer": "ipython3",
      "version": "3.7.12"
    },
    "papermill": {
      "default_parameters": {},
      "duration": 51.426449,
      "end_time": "2022-07-23T16:54:29.086729",
      "environment_variables": {},
      "exception": true,
      "input_path": "__notebook__.ipynb",
      "output_path": "__notebook__.ipynb",
      "parameters": {},
      "start_time": "2022-07-23T16:53:37.660280",
      "version": "2.3.4"
    }
  },
  "nbformat": 4,
  "nbformat_minor": 5
}
